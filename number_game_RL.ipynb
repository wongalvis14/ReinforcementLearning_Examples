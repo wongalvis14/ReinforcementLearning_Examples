{
  "nbformat": 4,
  "nbformat_minor": 0,
  "metadata": {
    "colab": {
      "name": "number_game_RL.ipynb",
      "provenance": [],
      "authorship_tag": "ABX9TyMyZDAYnFQ8nefbNZpSpdYt",
      "include_colab_link": true
    },
    "kernelspec": {
      "name": "python3",
      "display_name": "Python 3"
    }
  },
  "cells": [
    {
      "cell_type": "markdown",
      "metadata": {
        "id": "view-in-github",
        "colab_type": "text"
      },
      "source": [
        "<a href=\"https://colab.research.google.com/github/wongalvis14/ReinforcementLearning_Examples/blob/master/number_game_RL.ipynb\" target=\"_parent\"><img src=\"https://colab.research.google.com/assets/colab-badge.svg\" alt=\"Open In Colab\"/></a>"
      ]
    },
    {
      "cell_type": "code",
      "metadata": {
        "colab_type": "code",
        "id": "bd1un6hAPk5E",
        "colab": {}
      },
      "source": [
        "import numpy as np\n",
        "from matplotlib import pyplot as plt"
      ],
      "execution_count": 0,
      "outputs": []
    },
    {
      "cell_type": "markdown",
      "metadata": {
        "id": "BrkmyeQRPpbi",
        "colab_type": "text"
      },
      "source": [
        "Game works as:\n",
        "\n",
        "1. Dealer draws a number, only revealing to himself\n",
        "2. Makes a market of bet from 0 - 2 (0 means no bet / give up)\n",
        "3. Player decides whether to make that bet\n",
        "4. Dealer draws another number, if the first number is larger, takes player's bet, if draw, both take back their bets, otherwise pays player\n",
        "\n",
        "Findings:\n",
        "\n",
        "1. RL policy resolves to making value-bets, since the player agents are more or less completely random\n",
        "2. Value-bet player reduces dealer gains"
      ]
    },
    {
      "cell_type": "code",
      "metadata": {
        "id": "73Fl02mRLeze",
        "colab_type": "code",
        "colab": {}
      },
      "source": [
        "low = 0\n",
        "high = 5\n",
        "\n",
        "max_bet = 2\n",
        "min_bet = 0"
      ],
      "execution_count": 0,
      "outputs": []
    },
    {
      "cell_type": "code",
      "metadata": {
        "id": "X17RoYocJ_U6",
        "colab_type": "code",
        "colab": {}
      },
      "source": [
        "def initialize_q(max_bluff, num_range=high-low+1, bet_range=max_bet-min_bet+1):\n",
        "    return np.zeros((max_bluff + 1, num_range, bet_range))"
      ],
      "execution_count": 0,
      "outputs": []
    },
    {
      "cell_type": "code",
      "metadata": {
        "id": "m6lt-f6XLAdJ",
        "colab_type": "code",
        "colab": {}
      },
      "source": [
        "def get_number(low=low, high=high):\n",
        "    return np.random.randint(low, high+1)"
      ],
      "execution_count": 0,
      "outputs": []
    },
    {
      "cell_type": "code",
      "metadata": {
        "id": "SGIcLnZaRQ7k",
        "colab_type": "code",
        "colab": {}
      },
      "source": [
        "class random_gambler_agent:\n",
        "    def __init__(self, bet_rate = 0.5):\n",
        "        self.bet_rate = bet_rate\n",
        "    def gamble(self, bet):\n",
        "        if np.random.rand() <= self.bet_rate:\n",
        "            return 1\n",
        "        return 0"
      ],
      "execution_count": 0,
      "outputs": []
    },
    {
      "cell_type": "code",
      "metadata": {
        "id": "HWErEWESVan2",
        "colab_type": "code",
        "colab": {}
      },
      "source": [
        "class random_value_gambler_agent:\n",
        "    def __init__(self, bet_rate = 0.2):\n",
        "        self.bet_rate = bet_rate\n",
        "    def gamble(self, bet):\n",
        "        if np.random.rand() <= self.bet_rate:\n",
        "            return 1\n",
        "        if bet < (max_bet - min_bet)/2:\n",
        "            return 1\n",
        "        return 0"
      ],
      "execution_count": 0,
      "outputs": []
    },
    {
      "cell_type": "code",
      "metadata": {
        "id": "C3xjHCSCR8uD",
        "colab_type": "code",
        "colab": {}
      },
      "source": [
        "gambler_agent = random_gambler_agent()"
      ],
      "execution_count": 0,
      "outputs": []
    },
    {
      "cell_type": "code",
      "metadata": {
        "id": "CYrkRCdNQ5Q-",
        "colab_type": "code",
        "colab": {}
      },
      "source": [
        "def get_reward(num, num2, bet):\n",
        "    gamble = gambler_agent.gamble(bet)\n",
        "    if gamble == 0:\n",
        "        return 0\n",
        "    if num > num2:\n",
        "        return bet\n",
        "    if num == num2:\n",
        "        return 0\n",
        "    return -1 * bet"
      ],
      "execution_count": 0,
      "outputs": []
    },
    {
      "cell_type": "code",
      "metadata": {
        "id": "p_qBoNSaema-",
        "colab_type": "code",
        "colab": {}
      },
      "source": [
        "def is_bluff(num, bet):\n",
        "    return ((bet - min_bet) / (max_bet - min_bet)) > ((num - low) / (high - low))"
      ],
      "execution_count": 0,
      "outputs": []
    },
    {
      "cell_type": "code",
      "metadata": {
        "id": "3XOBIbB3K-5U",
        "colab_type": "code",
        "colab": {}
      },
      "source": [
        "class dealer_agent:\n",
        "\n",
        "    def __init__(self, gamma=0.3, learning_rate = 0.2, explore_p = 0.25, max_bluff = 3):\n",
        "        self.bluff = 1\n",
        "        self.max_bluff = max_bluff\n",
        "        self.gamma = gamma\n",
        "        self.learning_rate = learning_rate\n",
        "        self.explore_p = explore_p\n",
        "        self.q_table = initialize_q(max_bluff = self.max_bluff)\n",
        "        self.last_total = 0\n",
        "        self.totals = []\n",
        "        print (\"New bet agent created\\n\")\n",
        "    \n",
        "    def make_bet(self, num, explore_p):\n",
        "        if np.random.rand() <= explore_p:\n",
        "            bet = min_bet + np.random.choice(max_bet - min_bet + 1)\n",
        "        else:\n",
        "            bet = min_bet + np.argmax(self.q_table[self.bluff, num])\n",
        "        if is_bluff(num, bet):\n",
        "            self.bluff = min(self.bluff + 1, self.max_bluff)\n",
        "        else:\n",
        "            self.bluff = max(0, self.bluff - 1)\n",
        "        return bet\n",
        "    \n",
        "    def play_round(self, num, bet):\n",
        "        num2 = get_number()\n",
        "        reward = get_reward(num, num2, bet)\n",
        "        return reward\n",
        "\n",
        "    def get_next_rewards(self):\n",
        "        q = self.q_table[self.bluff]\n",
        "        bluff_reward = 0\n",
        "        value_reward = 0\n",
        "        for num in range(low, high + 1):\n",
        "            num_bluff_reward = 0\n",
        "            num_value_reward = 0\n",
        "            for bet in range(min_bet, max_bet + 1):\n",
        "                if is_bluff(bet, num):\n",
        "                    num_bluff_reward = max(num_bluff_reward, q[num, bet])\n",
        "                else:\n",
        "                    num_value_reward = max(num_value_reward, q[num, bet])\n",
        "            bluff_reward += num_bluff_reward\n",
        "            value_reward += num_value_reward\n",
        "        return (bluff_reward / (high - low + 1), value_reward / (high - low + 1))\n",
        "\n",
        "    def get_q_table(self):\n",
        "        return self.q_table\n",
        "\n",
        "    def reset_policy(self):\n",
        "        self.q_table = initialize_q(max_bluff = self.max_bluff)\n",
        "\n",
        "    def train(self, episodes=1000, print_every=50, verbose=False, reset=True):\n",
        "        if reset:\n",
        "            self.q_table = initialize_q(self.max_bluff)\n",
        "            self.bluff = 1\n",
        "            total = 0\n",
        "            self.totals = []\n",
        "        else:\n",
        "            total = self.last_total\n",
        "\n",
        "        for episode in range(1,episodes + 1):\n",
        "            num = get_number()\n",
        "            cur_bluff = self.bluff\n",
        "\n",
        "            bet = self.make_bet(num, self.explore_p)\n",
        "            reward = self.play_round(num, bet)\n",
        "            if verbose:\n",
        "                print('num {} bet {} reward {} bluff {}'.format(num, bet,reward, cur_bluff))\n",
        "            (next_reward_bluff, next_reward_value) = self.get_next_rewards()\n",
        "            next_reward = max(next_reward_bluff, next_reward_value)\n",
        "\n",
        "            self.q_table[cur_bluff, num, bet] = self.q_table[cur_bluff, num, bet] + self.learning_rate * (reward + self.gamma * next_reward - self.q_table[cur_bluff, num, bet])\n",
        "            total = total + reward\n",
        "            self.totals.append(total)\n",
        "            if episode % print_every == 0:\n",
        "                print('Episode {} Total Reward: {}'.format(episode,total))\n",
        "\n",
        "        self.last_total = total\n"
      ],
      "execution_count": 0,
      "outputs": []
    },
    {
      "cell_type": "code",
      "metadata": {
        "id": "SGRt_1b5wANp",
        "colab_type": "code",
        "outputId": "48ec98b9-740d-45ca-8db8-8cce4c9b4b13",
        "colab": {
          "base_uri": "https://localhost:8080/",
          "height": 51
        }
      },
      "source": [
        "agent = dealer_agent()"
      ],
      "execution_count": 0,
      "outputs": [
        {
          "output_type": "stream",
          "text": [
            "New bet agent created\n",
            "\n"
          ],
          "name": "stdout"
        }
      ]
    },
    {
      "cell_type": "code",
      "metadata": {
        "id": "9yH8O9zpwG0N",
        "colab_type": "code",
        "outputId": "fa9c0192-3217-4520-8e1a-146f406d690f",
        "colab": {
          "base_uri": "https://localhost:8080/",
          "height": 357
        }
      },
      "source": [
        "agent.train(episodes = 10000000, print_every = 500000)"
      ],
      "execution_count": 0,
      "outputs": [
        {
          "output_type": "stream",
          "text": [
            "Episode 500000 Total Reward: 64841\n",
            "Episode 1000000 Total Reward: 130717\n",
            "Episode 1500000 Total Reward: 196356\n",
            "Episode 2000000 Total Reward: 263333\n",
            "Episode 2500000 Total Reward: 329395\n",
            "Episode 3000000 Total Reward: 395768\n",
            "Episode 3500000 Total Reward: 462413\n",
            "Episode 4000000 Total Reward: 528471\n",
            "Episode 4500000 Total Reward: 594867\n",
            "Episode 5000000 Total Reward: 659945\n",
            "Episode 5500000 Total Reward: 725504\n",
            "Episode 6000000 Total Reward: 791559\n",
            "Episode 6500000 Total Reward: 856991\n",
            "Episode 7000000 Total Reward: 923082\n",
            "Episode 7500000 Total Reward: 989998\n",
            "Episode 8000000 Total Reward: 1055893\n",
            "Episode 8500000 Total Reward: 1121961\n",
            "Episode 9000000 Total Reward: 1187133\n",
            "Episode 9500000 Total Reward: 1252823\n",
            "Episode 10000000 Total Reward: 1317611\n"
          ],
          "name": "stdout"
        }
      ]
    },
    {
      "cell_type": "code",
      "metadata": {
        "id": "tVdZcrvh0yL9",
        "colab_type": "code",
        "outputId": "87912ef4-d440-440e-f4c9-4e1e5d46013a",
        "colab": {
          "base_uri": "https://localhost:8080/",
          "height": 476
        }
      },
      "source": [
        "agent.q_table"
      ],
      "execution_count": 0,
      "outputs": [
        {
          "output_type": "execute_result",
          "data": {
            "text/plain": [
              "array([[[ 0.06631035, -0.27814446, -0.39714408],\n",
              "        [ 0.06036289, -0.05241168, -0.3294353 ],\n",
              "        [ 0.06305997, -0.17755877,  0.4199815 ],\n",
              "        [ 0.0641747 , -0.02916336, -0.02105759],\n",
              "        [ 0.08409383,  0.33607393,  0.04729757],\n",
              "        [ 0.10609347,  0.49359386,  0.3812229 ]],\n",
              "\n",
              "       [[ 0.09672223, -0.41685827, -0.88420773],\n",
              "        [ 0.07298205, -0.32170885, -0.01853727],\n",
              "        [ 0.09215049, -0.01330833, -0.34445186],\n",
              "        [ 0.10240547, -0.00972081, -0.45456302],\n",
              "        [ 0.09443349,  0.27668022,  0.07974765],\n",
              "        [ 0.09799113,  0.45769728,  1.01713711]],\n",
              "\n",
              "       [[ 0.08384127, -0.51006156, -1.14432091],\n",
              "        [ 0.08151846, -0.12845828, -0.13975775],\n",
              "        [ 0.07741489,  0.04252949, -0.17059917],\n",
              "        [ 0.09075491,  0.40965027, -0.06440097],\n",
              "        [ 0.08992618,  0.30239127,  0.30332603],\n",
              "        [ 0.10962579,  0.4718748 ,  0.39956543]],\n",
              "\n",
              "       [[ 0.08877639, -0.08234417, -0.55989922],\n",
              "        [ 0.09242741, -0.29677341, -0.69716974],\n",
              "        [ 0.07528925, -0.13673768, -0.02017098],\n",
              "        [ 0.08869151, -0.07127687,  0.05451266],\n",
              "        [ 0.1037538 ,  0.22041106,  0.57143636],\n",
              "        [ 0.07718424,  0.51809645,  1.18309714]]])"
            ]
          },
          "metadata": {
            "tags": []
          },
          "execution_count": 327
        }
      ]
    },
    {
      "cell_type": "code",
      "metadata": {
        "id": "ErtxpLnw424a",
        "colab_type": "code",
        "outputId": "532864ba-d457-497d-db7d-a2d667c8393a",
        "colab": {
          "base_uri": "https://localhost:8080/",
          "height": 289
        }
      },
      "source": [
        "plt.plot(agent.totals) \n",
        "plt.show()"
      ],
      "execution_count": 0,
      "outputs": [
        {
          "output_type": "display_data",
          "data": {
            "image/png": "[encoded data removed]",
            "text/plain": [
              "<Figure size 432x288 with 1 Axes>"
            ]
          },
          "metadata": {
            "tags": []
          }
        }
      ]
    },
    {
      "cell_type": "code",
      "metadata": {
        "id": "JHzBskqfATeh",
        "colab_type": "code",
        "colab": {}
      },
      "source": [
        "gambler_agent = random_value_gambler_agent()"
      ],
      "execution_count": 0,
      "outputs": []
    },
    {
      "cell_type": "code",
      "metadata": {
        "id": "Lo4w4IZrAX_G",
        "colab_type": "code",
        "outputId": "4da96517-89f0-4c77-e450-bb4a4c10174a",
        "colab": {
          "base_uri": "https://localhost:8080/",
          "height": 357
        }
      },
      "source": [
        "agent.train(episodes = 10000000, print_every = 500000)"
      ],
      "execution_count": 0,
      "outputs": [
        {
          "output_type": "stream",
          "text": [
            "Episode 500000 Total Reward: 21835\n",
            "Episode 1000000 Total Reward: 43553\n",
            "Episode 1500000 Total Reward: 65165\n",
            "Episode 2000000 Total Reward: 86728\n",
            "Episode 2500000 Total Reward: 109039\n",
            "Episode 3000000 Total Reward: 131228\n",
            "Episode 3500000 Total Reward: 153686\n",
            "Episode 4000000 Total Reward: 176103\n",
            "Episode 4500000 Total Reward: 198596\n",
            "Episode 5000000 Total Reward: 220674\n",
            "Episode 5500000 Total Reward: 242120\n",
            "Episode 6000000 Total Reward: 264112\n",
            "Episode 6500000 Total Reward: 286730\n",
            "Episode 7000000 Total Reward: 308631\n",
            "Episode 7500000 Total Reward: 331495\n",
            "Episode 8000000 Total Reward: 354316\n",
            "Episode 8500000 Total Reward: 376466\n",
            "Episode 9000000 Total Reward: 398570\n",
            "Episode 9500000 Total Reward: 420796\n",
            "Episode 10000000 Total Reward: 443057\n"
          ],
          "name": "stdout"
        }
      ]
    },
    {
      "cell_type": "code",
      "metadata": {
        "id": "4_nPxWwbAngU",
        "colab_type": "code",
        "outputId": "0f2f94f6-8bb2-4234-c4f3-247194af6446",
        "colab": {
          "base_uri": "https://localhost:8080/",
          "height": 476
        }
      },
      "source": [
        "agent.q_table"
      ],
      "execution_count": 0,
      "outputs": [
        {
          "output_type": "execute_result",
          "data": {
            "text/plain": [
              "array([[[ 0.02308835, -0.20494678, -0.07677218],\n",
              "        [ 0.02944012, -0.01869321, -0.18023923],\n",
              "        [ 0.02753667, -0.14712756,  0.00668601],\n",
              "        [ 0.03514257, -0.11476094, -0.52133741],\n",
              "        [ 0.01541312,  0.20974016, -0.39988471],\n",
              "        [ 0.01609131,  0.1810774 ,  0.17037459]],\n",
              "\n",
              "       [[ 0.04082474, -0.26901219,  0.00954181],\n",
              "        [ 0.02303062, -0.02359083, -0.05263524],\n",
              "        [ 0.0213212 , -0.04609869, -0.07922541],\n",
              "        [ 0.01973047,  0.00977265,  0.0141549 ],\n",
              "        [ 0.01699637,  0.1258098 , -0.27775432],\n",
              "        [ 0.02923018,  0.14177125,  0.10767888]],\n",
              "\n",
              "       [[ 0.03447207, -0.24107362, -0.20729237],\n",
              "        [ 0.02912075, -0.14560011, -0.26409099],\n",
              "        [ 0.03117524, -0.08866492, -0.15642114],\n",
              "        [ 0.03772821,  0.09858638,  0.03234488],\n",
              "        [ 0.03939286,  0.06325749, -0.13814863],\n",
              "        [ 0.05080266,  0.28399832,  0.08521131]],\n",
              "\n",
              "       [[ 0.02977443, -0.39245453, -0.23450611],\n",
              "        [ 0.024844  , -0.14156548, -0.07113235],\n",
              "        [ 0.02726298,  0.01754278, -0.30372281],\n",
              "        [ 0.02572148,  0.00177799, -0.04941107],\n",
              "        [ 0.03484051,  0.00268477,  0.15923004],\n",
              "        [ 0.03062563,  0.03532122,  0.35551943]]])"
            ]
          },
          "metadata": {
            "tags": []
          },
          "execution_count": 331
        }
      ]
    },
    {
      "cell_type": "code",
      "metadata": {
        "id": "SVOIdzmmAsYM",
        "colab_type": "code",
        "outputId": "ce88792b-8617-4c1a-b8c8-b165a7b01eba",
        "colab": {
          "base_uri": "https://localhost:8080/",
          "height": 278
        }
      },
      "source": [
        "plt.plot(agent.totals) \n",
        "plt.show()"
      ],
      "execution_count": 0,
      "outputs": [
        {
          "output_type": "display_data",
          "data": {
            "image/png": "[encoded data removed]",
            "text/plain": [
              "<Figure size 432x288 with 1 Axes>"
            ]
          },
          "metadata": {
            "tags": []
          }
        }
      ]
    },
    {
      "cell_type": "code",
      "metadata": {
        "id": "5UU2rgfeClxk",
        "colab_type": "code",
        "colab": {}
      },
      "source": [
        ""
      ],
      "execution_count": 0,
      "outputs": []
    }
  ]
}